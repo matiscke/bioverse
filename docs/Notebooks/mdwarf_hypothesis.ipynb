{
 "cells": [
  {
   "cell_type": "markdown",
   "metadata": {},
   "source": [
    "## Imports "
   ]
  },
  {
   "cell_type": "code",
   "execution_count": 328,
   "metadata": {},
   "outputs": [
    {
     "name": "stdout",
     "output_type": "stream",
     "text": [
      "The autoreload extension is already loaded. To reload it, use:\n",
      "  %reload_ext autoreload\n"
     ]
    }
   ],
   "source": [
    "import numpy as np\n",
    "import pandas as pd\n",
    "\n",
    "# Import the Generator class\n",
    "from bioverse.generator import Generator\n",
    "from bioverse.constants import ROOT_DIR\n",
    "from bioverse.custom import label_lateM\n",
    "from bioverse import util\n",
    "\n",
    "# Import pyplot (for making plots later) and adjust some of its settings\n",
    "from matplotlib import pyplot as plt\n",
    "%matplotlib inline\n",
    "plt.rcParams['font.size'] = 20.\n",
    "\n",
    "%load_ext autoreload\n",
    "%autoreload 2\n",
    "\n",
    "pd.options.display.max_rows = 200\n",
    "pd.options.display.max_columns = 80"
   ]
  },
  {
   "cell_type": "markdown",
   "metadata": {},
   "source": [
    "## define some parameters"
   ]
  },
  {
   "cell_type": "code",
   "execution_count": 329,
   "metadata": {},
   "outputs": [],
   "source": [
    "# randomState = 42\n",
    "# np.random.seed(randomState)\n",
    "Mst_threshold = 0.4    # stellar mass threshold (i.e., 'what do we call \"late\"?')\n",
    "d_max = 100            # max. distance to stars in parsec"
   ]
  },
  {
   "cell_type": "markdown",
   "metadata": {},
   "source": [
    "## Generate stars"
   ]
  },
  {
   "cell_type": "code",
   "execution_count": 330,
   "metadata": {},
   "outputs": [
    {
     "name": "stdout",
     "output_type": "stream",
     "text": [
      "Created a new Generator\n"
     ]
    },
    {
     "data": {
      "text/html": [
       "<div>\n",
       "<style scoped>\n",
       "    .dataframe tbody tr th:only-of-type {\n",
       "        vertical-align: middle;\n",
       "    }\n",
       "\n",
       "    .dataframe tbody tr th {\n",
       "        vertical-align: top;\n",
       "    }\n",
       "\n",
       "    .dataframe thead th {\n",
       "        text-align: right;\n",
       "    }\n",
       "</style>\n",
       "<table border=\"1\" class=\"dataframe\">\n",
       "  <thead>\n",
       "    <tr style=\"text-align: right;\">\n",
       "      <th></th>\n",
       "      <th>d</th>\n",
       "      <th>ra</th>\n",
       "      <th>dec</th>\n",
       "      <th>T_eff_st</th>\n",
       "      <th>M_G</th>\n",
       "      <th>M_st</th>\n",
       "      <th>simulated</th>\n",
       "      <th>R_st</th>\n",
       "      <th>L_st</th>\n",
       "      <th>SpT</th>\n",
       "      <th>subSpT</th>\n",
       "      <th>age</th>\n",
       "      <th>starID</th>\n",
       "      <th>is_late</th>\n",
       "    </tr>\n",
       "  </thead>\n",
       "  <tbody>\n",
       "    <tr>\n",
       "      <th>0</th>\n",
       "      <td>94.833395</td>\n",
       "      <td>106.065838</td>\n",
       "      <td>-52.309343</td>\n",
       "      <td>5146.098200</td>\n",
       "      <td>5.677804</td>\n",
       "      <td>0.826098</td>\n",
       "      <td>True</td>\n",
       "      <td>0.810016</td>\n",
       "      <td>0.413303</td>\n",
       "      <td>K</td>\n",
       "      <td>K1.5V</td>\n",
       "      <td>4.513248</td>\n",
       "      <td>0</td>\n",
       "      <td>False</td>\n",
       "    </tr>\n",
       "    <tr>\n",
       "      <th>1</th>\n",
       "      <td>93.869882</td>\n",
       "      <td>234.691824</td>\n",
       "      <td>-8.674328</td>\n",
       "      <td>2275.926910</td>\n",
       "      <td>16.348888</td>\n",
       "      <td>0.077370</td>\n",
       "      <td>True</td>\n",
       "      <td>0.106518</td>\n",
       "      <td>0.000274</td>\n",
       "      <td>L</td>\n",
       "      <td>L0V</td>\n",
       "      <td>5.047672</td>\n",
       "      <td>1</td>\n",
       "      <td>True</td>\n",
       "    </tr>\n",
       "    <tr>\n",
       "      <th>2</th>\n",
       "      <td>96.954317</td>\n",
       "      <td>44.974913</td>\n",
       "      <td>-27.617093</td>\n",
       "      <td>3523.895239</td>\n",
       "      <td>9.536629</td>\n",
       "      <td>0.419116</td>\n",
       "      <td>True</td>\n",
       "      <td>0.412594</td>\n",
       "      <td>0.023771</td>\n",
       "      <td>M</td>\n",
       "      <td>M2.5V</td>\n",
       "      <td>6.589724</td>\n",
       "      <td>2</td>\n",
       "      <td>False</td>\n",
       "    </tr>\n",
       "    <tr>\n",
       "      <th>3</th>\n",
       "      <td>97.616319</td>\n",
       "      <td>274.861114</td>\n",
       "      <td>-40.192982</td>\n",
       "      <td>3137.065417</td>\n",
       "      <td>11.786488</td>\n",
       "      <td>0.194826</td>\n",
       "      <td>True</td>\n",
       "      <td>0.248560</td>\n",
       "      <td>0.005421</td>\n",
       "      <td>M</td>\n",
       "      <td>M4.5V</td>\n",
       "      <td>5.521769</td>\n",
       "      <td>3</td>\n",
       "      <td>True</td>\n",
       "    </tr>\n",
       "    <tr>\n",
       "      <th>4</th>\n",
       "      <td>78.107819</td>\n",
       "      <td>193.137192</td>\n",
       "      <td>-56.122247</td>\n",
       "      <td>3599.245195</td>\n",
       "      <td>9.251962</td>\n",
       "      <td>0.454774</td>\n",
       "      <td>True</td>\n",
       "      <td>0.446804</td>\n",
       "      <td>0.030347</td>\n",
       "      <td>M</td>\n",
       "      <td>M2V</td>\n",
       "      <td>7.343600</td>\n",
       "      <td>4</td>\n",
       "      <td>False</td>\n",
       "    </tr>\n",
       "    <tr>\n",
       "      <th>...</th>\n",
       "      <td>...</td>\n",
       "      <td>...</td>\n",
       "      <td>...</td>\n",
       "      <td>...</td>\n",
       "      <td>...</td>\n",
       "      <td>...</td>\n",
       "      <td>...</td>\n",
       "      <td>...</td>\n",
       "      <td>...</td>\n",
       "      <td>...</td>\n",
       "      <td>...</td>\n",
       "      <td>...</td>\n",
       "      <td>...</td>\n",
       "      <td>...</td>\n",
       "    </tr>\n",
       "    <tr>\n",
       "      <th>489670</th>\n",
       "      <td>78.225462</td>\n",
       "      <td>331.040268</td>\n",
       "      <td>-64.482191</td>\n",
       "      <td>2252.975601</td>\n",
       "      <td>16.358725</td>\n",
       "      <td>0.077043</td>\n",
       "      <td>True</td>\n",
       "      <td>0.107830</td>\n",
       "      <td>0.000270</td>\n",
       "      <td>L</td>\n",
       "      <td>L0V</td>\n",
       "      <td>4.607244</td>\n",
       "      <td>489670</td>\n",
       "      <td>True</td>\n",
       "    </tr>\n",
       "    <tr>\n",
       "      <th>489671</th>\n",
       "      <td>91.241729</td>\n",
       "      <td>218.272932</td>\n",
       "      <td>-54.224957</td>\n",
       "      <td>3066.193449</td>\n",
       "      <td>12.280793</td>\n",
       "      <td>0.170341</td>\n",
       "      <td>True</td>\n",
       "      <td>0.221750</td>\n",
       "      <td>0.003991</td>\n",
       "      <td>M</td>\n",
       "      <td>M5V</td>\n",
       "      <td>5.009255</td>\n",
       "      <td>489671</td>\n",
       "      <td>True</td>\n",
       "    </tr>\n",
       "    <tr>\n",
       "      <th>489672</th>\n",
       "      <td>94.119974</td>\n",
       "      <td>1.623663</td>\n",
       "      <td>-28.398165</td>\n",
       "      <td>2957.471647</td>\n",
       "      <td>13.777852</td>\n",
       "      <td>0.114330</td>\n",
       "      <td>True</td>\n",
       "      <td>0.142763</td>\n",
       "      <td>0.001433</td>\n",
       "      <td>M</td>\n",
       "      <td>M6V</td>\n",
       "      <td>7.473918</td>\n",
       "      <td>489672</td>\n",
       "      <td>True</td>\n",
       "    </tr>\n",
       "    <tr>\n",
       "      <th>489673</th>\n",
       "      <td>63.945723</td>\n",
       "      <td>281.413608</td>\n",
       "      <td>-45.681028</td>\n",
       "      <td>2915.130498</td>\n",
       "      <td>14.054481</td>\n",
       "      <td>0.108684</td>\n",
       "      <td>True</td>\n",
       "      <td>0.136552</td>\n",
       "      <td>0.001245</td>\n",
       "      <td>M</td>\n",
       "      <td>M6V</td>\n",
       "      <td>5.329604</td>\n",
       "      <td>489673</td>\n",
       "      <td>True</td>\n",
       "    </tr>\n",
       "    <tr>\n",
       "      <th>489674</th>\n",
       "      <td>73.711701</td>\n",
       "      <td>299.059981</td>\n",
       "      <td>-32.926068</td>\n",
       "      <td>5703.650509</td>\n",
       "      <td>4.748612</td>\n",
       "      <td>0.995913</td>\n",
       "      <td>True</td>\n",
       "      <td>1.000190</td>\n",
       "      <td>0.950577</td>\n",
       "      <td>G</td>\n",
       "      <td>G4V</td>\n",
       "      <td>6.939032</td>\n",
       "      <td>489674</td>\n",
       "      <td>False</td>\n",
       "    </tr>\n",
       "  </tbody>\n",
       "</table>\n",
       "<p>489675 rows × 14 columns</p>\n",
       "</div>"
      ],
      "text/plain": [
       "                d          ra        dec     T_eff_st        M_G      M_st  \\\n",
       "0       94.833395  106.065838 -52.309343  5146.098200   5.677804  0.826098   \n",
       "1       93.869882  234.691824  -8.674328  2275.926910  16.348888  0.077370   \n",
       "2       96.954317   44.974913 -27.617093  3523.895239   9.536629  0.419116   \n",
       "3       97.616319  274.861114 -40.192982  3137.065417  11.786488  0.194826   \n",
       "4       78.107819  193.137192 -56.122247  3599.245195   9.251962  0.454774   \n",
       "...           ...         ...        ...          ...        ...       ...   \n",
       "489670  78.225462  331.040268 -64.482191  2252.975601  16.358725  0.077043   \n",
       "489671  91.241729  218.272932 -54.224957  3066.193449  12.280793  0.170341   \n",
       "489672  94.119974    1.623663 -28.398165  2957.471647  13.777852  0.114330   \n",
       "489673  63.945723  281.413608 -45.681028  2915.130498  14.054481  0.108684   \n",
       "489674  73.711701  299.059981 -32.926068  5703.650509   4.748612  0.995913   \n",
       "\n",
       "        simulated      R_st      L_st SpT subSpT       age  starID  is_late  \n",
       "0            True  0.810016  0.413303   K  K1.5V  4.513248       0    False  \n",
       "1            True  0.106518  0.000274   L    L0V  5.047672       1     True  \n",
       "2            True  0.412594  0.023771   M  M2.5V  6.589724       2    False  \n",
       "3            True  0.248560  0.005421   M  M4.5V  5.521769       3     True  \n",
       "4            True  0.446804  0.030347   M    M2V  7.343600       4    False  \n",
       "...           ...       ...       ...  ..    ...       ...     ...      ...  \n",
       "489670       True  0.107830  0.000270   L    L0V  4.607244  489670     True  \n",
       "489671       True  0.221750  0.003991   M    M5V  5.009255  489671     True  \n",
       "489672       True  0.142763  0.001433   M    M6V  7.473918  489672     True  \n",
       "489673       True  0.136552  0.001245   M    M6V  5.329604  489673     True  \n",
       "489674       True  1.000190  0.950577   G    G4V  6.939032  489674    False  \n",
       "\n",
       "[489675 rows x 14 columns]"
      ]
     },
     "execution_count": 330,
     "metadata": {},
     "output_type": "execute_result"
    }
   ],
   "source": [
    "# Open the transit mode generator and display its properties\n",
    "# generator = Generator('transit')\n",
    "\n",
    "g_transit = Generator(label=None)\n",
    "g_transit.insert_step('create_stars_Gaia')\n",
    "\n",
    "# Make sure there are some hotter stars as well \n",
    "# (is this a bug in Bioverse that there are no hotter planets than T_eff_split?)\n",
    "g_transit.set_arg('T_eff_split', 9700)\n",
    "\n",
    "# Insert a function to the generator that labels late M dwarfs, defining a stellar mass threshold Mst_threshold.\n",
    "g_transit.insert_step(label_lateM)\n",
    "\n",
    "stars = g_transit.generate(d_max=d_max, Mst_threshold=Mst_threshold)\n",
    "stars.to_pandas()"
   ]
  },
  {
   "cell_type": "markdown",
   "metadata": {},
   "source": [
    "## Generate planets \n",
    "\n",
    "Following cell must be run _once_ after previous one:"
   ]
  },
  {
   "cell_type": "code",
   "execution_count": 331,
   "metadata": {},
   "outputs": [],
   "source": [
    "g_transit.insert_step('create_planets_SAG13')\n",
    "g_transit.insert_step('assign_orbital_elements')\n",
    "g_transit.insert_step('impact_parameter')\n",
    "g_transit.insert_step('assign_mass')\n",
    "g_transit.insert_step('compute_transit_params')\n",
    "\n",
    "\n",
    "\n",
    "# Make sure occurrence rate is modulated with M_star\n",
    "g_transit.set_arg('normalize_SpT', True)\n",
    "# g_transit.set_arg('normalize_SpT', False)\n",
    "\n",
    "# show generator steps\n",
    "g_transit\n",
    "\n",
    "# Show parameters of the 'create_planets_SAG13' step\n",
    "# g_transit.steps[0]\n",
    "\n",
    "# Simulate only transiting planets:\n",
    "g_transit.set_arg('transit_mode', True)\n",
    "# g_transit.get_arg('transit_mode')"
   ]
  },
  {
   "cell_type": "markdown",
   "metadata": {
    "tags": []
   },
   "source": [
    "### Run the Generator\n",
    "\n",
    "Now, let's use this Generator object to produce an ensemble of transiting planets within 100 parsecs."
   ]
  },
  {
   "cell_type": "code",
   "execution_count": 332,
   "metadata": {},
   "outputs": [
    {
     "data": {
      "text/plain": [
       "18585"
      ]
     },
     "execution_count": 332,
     "metadata": {},
     "output_type": "execute_result"
    }
   ],
   "source": [
    "sample = g_transit.generate(d_max=d_max, Mst_threshold=Mst_threshold, optimistic=True)\n",
    "# print(\"Generated a sample of {:d} planets including {:d} exo-Earth candidates.\".format(len(sample), sample['EEC'].sum()))\n",
    "len(sample)"
   ]
  },
  {
   "cell_type": "markdown",
   "metadata": {},
   "source": [
    "Let's plot the planets around late M dwarfs and earlier stars:"
   ]
  },
  {
   "cell_type": "code",
   "execution_count": 333,
   "metadata": {},
   "outputs": [
    {
     "name": "stdout",
     "output_type": "stream",
     "text": [
      "total number of planets:\n",
      " $N_{late} = 15853$\n",
      " $N_{early} = 2732\n"
     ]
    },
    {
     "data": {
      "image/png": "[encoded data removed]",
      "text/plain": [
       "<Figure size 1152x576 with 2 Axes>"
      ]
     },
     "metadata": {
      "needs_background": "light"
     },
     "output_type": "display_data"
    }
   ],
   "source": [
    "bins = util.compute_logbins(binWidth_dex=0.25, Range=(0.1, 1000.))\n",
    "\n",
    "fig, axs = plt.subplots(ncols=2, figsize=(16,8), sharey=True)\n",
    "late = sample['is_late']\n",
    "early = ~sample['is_late']\n",
    "\n",
    "# planets around late M dwarfs\n",
    "axs[0].hist(sample[late]['M'], bins=bins)\n",
    "axs[0].set_title('late M dwarfs ($<{:.1f}\\, M_{{\\odot}}$)'.format(Mst_threshold))\n",
    "axs[0].set_ylabel('number of planets')\n",
    "\n",
    "# planets around other stars \n",
    "axs[1].hist(sample[early]['M'], bins=bins)\n",
    "axs[1].set_title('earlier host stars')\n",
    "\n",
    "for ax in axs:\n",
    "    ax.set_xscale('log')\n",
    "    ax.set_xlabel('planet mass [$M_{{\\oplus}}$]')\n",
    "    \n",
    "print('total number of planets:\\n $N_{{late}} = {}$\\n $N_{{early}} = {}'.format(len(sample[late]), len(sample[early])))\n"
   ]
  },
  {
   "cell_type": "code",
   "execution_count": 334,
   "metadata": {},
   "outputs": [
    {
     "name": "stdout",
     "output_type": "stream",
     "text": [
      "detection rate of planets (aka transiting planets per star in the sample):\n",
      " $n_{late} = 0.045$\n",
      " $n_{early} = 0.115\n"
     ]
    }
   ],
   "source": [
    "occ_late = len(sample[late])/len(stars[stars['is_late']])\n",
    "occ_early = len(sample[late])/len(stars[~stars['is_late']])\n",
    "\n",
    "print('detection rate of planets (aka transiting planets per star in the sample):\\n $n_{{late}} = {:.3f}$\\n $n_{{early}} = {:.3f}'.format(occ_late, occ_early))\n"
   ]
  },
  {
   "cell_type": "code",
   "execution_count": null,
   "metadata": {},
   "outputs": [],
   "source": []
  },
  {
   "cell_type": "code",
   "execution_count": null,
   "metadata": {},
   "outputs": [],
   "source": []
  },
  {
   "cell_type": "code",
   "execution_count": null,
   "metadata": {},
   "outputs": [],
   "source": []
  },
  {
   "cell_type": "code",
   "execution_count": null,
   "metadata": {},
   "outputs": [],
   "source": []
  },
  {
   "cell_type": "code",
   "execution_count": null,
   "metadata": {},
   "outputs": [],
   "source": []
  },
  {
   "cell_type": "code",
   "execution_count": null,
   "metadata": {},
   "outputs": [],
   "source": []
  },
  {
   "cell_type": "markdown",
   "metadata": {},
   "source": [
    "Of course, you may wish to change the `oceans` function later, and it would be tiring to add it to the Generator again each time. Instead, we can point the Generator to a Python file containing your function, which must be saved under ``bioverse/functions/``."
   ]
  },
  {
   "cell_type": "code",
   "execution_count": 68,
   "metadata": {},
   "outputs": [
    {
     "data": {
      "text/plain": [
       "Generator with 13 steps:\n",
       " 0: Function 'create_stars_Gaia' with 6 keyword arguments.\n",
       " 1: Function 'create_planets_SAG13' with 9 keyword arguments.\n",
       " 2: Function 'assign_orbital_elements' with 1 keyword arguments.\n",
       " 3: Function 'geometric_albedo' with 2 keyword arguments.\n",
       " 4: Function 'impact_parameter' with 1 keyword arguments.\n",
       " 5: Function 'assign_mass' with no keyword arguments.\n",
       " 6: Function 'compute_habitable_zone_boundaries' with no keyword arguments.\n",
       " 7: Function 'compute_transit_params' with no keyword arguments.\n",
       " 8: Function 'classify_planets' with no keyword arguments.\n",
       " 9: Function 'scale_height' with no keyword arguments.\n",
       "10: Function 'Example1_water' with 3 keyword arguments.\n",
       "11: Function 'Example2_oxygen' with 2 keyword arguments.\n",
       "12: Function 'oceans' with 2 keyword arguments."
      ]
     },
     "execution_count": 68,
     "metadata": {},
     "output_type": "execute_result"
    }
   ],
   "source": [
    "# Reload the generator to erase the previously-added step\n",
    "generator = Generator('transit')\n",
    "\n",
    "# Write the function definition as a string\n",
    "func = \"\"\"\n",
    "# Define a function that accepts and returns a Table object\n",
    "def oceans(d, f_ocean_min=0, f_ocean_max=1):\n",
    "    # First, assign zero for all planets\n",
    "    d['f_ocean'] = np.zeros(len(d))\n",
    "\n",
    "    # Next, assign a random non-zero value for exo-Earth candidates\n",
    "    EEC = d['EEC']\n",
    "    d['f_ocean'][EEC] = np.random.uniform(f_ocean_min, f_ocean_max, size=EEC.sum())\n",
    "\n",
    "    # Finally, return the Table with its new column\n",
    "    return d\n",
    "\"\"\"\n",
    "\n",
    "# Save the function to a .py file\n",
    "with open(ROOT_DIR+'/example_oceans.py', 'w') as f:\n",
    "    f.write(func)\n",
    "\n",
    "# Insert this function into the Generator and specify the filename\n",
    "generator.insert_step('oceans', filename='example_oceans.py')\n",
    "\n",
    "# Verify that the new step has been added\n",
    "generator"
   ]
  },
  {
   "cell_type": "markdown",
   "metadata": {},
   "source": [
    "Now, any changes you make to the `oceans` function under `example_oceans.py` will automatically be applied. Finally, you will want to save this Generator under a new name, so that you don't have to re-add the new step every time you load Bioverse:"
   ]
  },
  {
   "cell_type": "code",
   "execution_count": 47,
   "metadata": {},
   "outputs": [],
   "source": [
    "# Save the new Generator\n",
    "generator.save('transit_oceans')\n",
    "\n",
    "# Reload it\n",
    "generator = Generator('transit_oceans')"
   ]
  },
  {
   "cell_type": "markdown",
   "metadata": {},
   "source": [
    "The following lines of code will clean up the files created during this exercise:"
   ]
  },
  {
   "cell_type": "code",
   "execution_count": 48,
   "metadata": {},
   "outputs": [],
   "source": [
    "import os\n",
    "trash = [ROOT_DIR+'/Objects/Generators/transit_oceans.pkl', ROOT_DIR+'/example_oceans.py']\n",
    "for filename in trash:\n",
    "    if os.path.exists(filename):\n",
    "        os.remove(filename)"
   ]
  },
  {
   "cell_type": "markdown",
   "metadata": {},
   "source": [
    "The next example will translate this simulated sample of planetary systems into a dataset from a transit spectroscopy survey."
   ]
  }
 ],
 "metadata": {
  "interpreter": {
   "hash": "3dd1bae58f74bf20d8da1452b02c9f82b0404678f1d0078fc73ebd3bf8b9b030"
  },
  "kernelspec": {
   "display_name": "Python 3 (ipykernel)",
   "language": "python",
   "name": "python3"
  },
  "language_info": {
   "codemirror_mode": {
    "name": "ipython",
    "version": 3
   },
   "file_extension": ".py",
   "mimetype": "text/x-python",
   "name": "python",
   "nbconvert_exporter": "python",
   "pygments_lexer": "ipython3",
   "version": "3.9.7"
  }
 },
 "nbformat": 4,
 "nbformat_minor": 4
}
